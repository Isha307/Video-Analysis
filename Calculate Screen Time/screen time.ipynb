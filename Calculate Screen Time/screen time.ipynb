{
  "nbformat": 4,
  "nbformat_minor": 0,
  "metadata": {
    "colab": {
      "name": "Untitled20.ipynb",
      "provenance": []
    },
    "kernelspec": {
      "name": "python3",
      "display_name": "Python 3"
    },
    "language_info": {
      "name": "python"
    }
  },
  "cells": [
    {
      "cell_type": "code",
      "metadata": {
        "id": "cyF8E5Q0qnnJ"
      },
      "source": [
        "import cv2     \n",
        "import math   \n",
        "import matplotlib.pyplot as plt   \n",
        "import pandas as pd\n",
        "from keras.preprocessing import image   \n",
        "import numpy as np   \n",
        "from keras.utils import np_utils\n",
        "from skimage.transform import resize  "
      ],
      "execution_count": 1,
      "outputs": []
    },
    {
      "cell_type": "code",
      "metadata": {
        "colab": {
          "base_uri": "https://localhost:8080/"
        },
        "id": "WgS-p1k1rXZo",
        "outputId": "b99c3ad2-5793-4680-a582-a56da27ae84a"
      },
      "source": [
        "count = 0\n",
        "videoFile = \"/content/drive/MyDrive/video/Tom and jerry.mp4\"\n",
        "cap = cv2.VideoCapture(videoFile)   # capturing the video from the given path\n",
        "frameRate = cap.get(5) #frame rate\n",
        "x=1\n",
        "while(cap.isOpened()):\n",
        "    frameId = cap.get(1) #current frame number\n",
        "    ret, frame = cap.read()\n",
        "    if (ret != True):\n",
        "        break\n",
        "    if (frameId % math.floor(frameRate) == 0):\n",
        "        filename =\"test%d.jpg\" % count;count+=1\n",
        "        cv2.imwrite(filename, frame)\n",
        "cap.release()\n",
        "print (count)\n",
        "print (\"Done!\")"
      ],
      "execution_count": 3,
      "outputs": [
        {
          "output_type": "stream",
          "text": [
            "298\n",
            "Done!\n"
          ],
          "name": "stdout"
        }
      ]
    },
    {
      "cell_type": "code",
      "metadata": {
        "id": "ZI_APRJcIpcy"
      },
      "source": [
        "test = pd.read_csv('/content/drive/MyDrive/video/test.csv')"
      ],
      "execution_count": 4,
      "outputs": []
    },
    {
      "cell_type": "code",
      "metadata": {
        "id": "FY39xGfJh3gu"
      },
      "source": [
        "test_image = []\n",
        "for img_name in test.Image_ID:\n",
        "    img = plt.imread('' + img_name)\n",
        "    test_image.append(img)\n",
        "test_img = np.array(test_image)"
      ],
      "execution_count": 5,
      "outputs": []
    },
    {
      "cell_type": "code",
      "metadata": {
        "id": "UE5xooUMh7RI"
      },
      "source": [
        "test_image = []\n",
        "for i in range(0,test_img.shape[0]):\n",
        "    a = resize(test_img[i], preserve_range=True, output_shape=(224,224)).astype(int)\n",
        "    test_image.append(a)\n",
        "test_image = np.array(test_image)"
      ],
      "execution_count": 6,
      "outputs": []
    },
    {
      "cell_type": "code",
      "metadata": {
        "id": "R4NMw58kK4PE"
      },
      "source": [
        "data = pd.read_csv('/content/drive/MyDrive/video/mapping.csv')     # reading the csv file"
      ],
      "execution_count": 13,
      "outputs": []
    },
    {
      "cell_type": "code",
      "metadata": {
        "id": "VuckFptPi8Lz"
      },
      "source": [
        "X = [ ]     # creating an empty array\n",
        "for img_name in data.Image_ID:\n",
        "    img = plt.imread('' + img_name)\n",
        "    X.append(img)  # storing each image in array X\n",
        "X = np.array(X)    # converting list to array"
      ],
      "execution_count": 14,
      "outputs": []
    },
    {
      "cell_type": "code",
      "metadata": {
        "id": "5sVCihhKjrxs"
      },
      "source": [
        "y = data.Class\n",
        "dummy_y = np_utils.to_categorical(y)    # one hot encoding Classes"
      ],
      "execution_count": 15,
      "outputs": []
    },
    {
      "cell_type": "code",
      "metadata": {
        "id": "-CETRPj6jvsY"
      },
      "source": [
        "image = []\n",
        "for i in range(0,X.shape[0]):\n",
        "    a = resize(X[i], preserve_range=True, output_shape=(224,224)).astype(int)      # reshaping to 224*224*3\n",
        "    image.append(a)\n",
        "X = np.array(image)"
      ],
      "execution_count": 16,
      "outputs": []
    },
    {
      "cell_type": "code",
      "metadata": {
        "id": "7Vh54nwxkMd5"
      },
      "source": [
        "from keras.applications.vgg16 import preprocess_input\n",
        "X = preprocess_input(X)  "
      ],
      "execution_count": 17,
      "outputs": []
    },
    {
      "cell_type": "code",
      "metadata": {
        "id": "oqfmFDMnZORJ"
      },
      "source": [
        "from sklearn.model_selection import train_test_split\n",
        "X_train, X_valid, y_train, y_valid = train_test_split(X, dummy_y, test_size=0.3, random_state=42)    # preparing the validation set"
      ],
      "execution_count": 19,
      "outputs": []
    },
    {
      "cell_type": "code",
      "metadata": {
        "id": "evc2ZiiwZblJ"
      },
      "source": [
        "from keras.models import Sequential\n",
        "from keras.applications.vgg16 import VGG16\n",
        "from keras.layers import Dense, InputLayer, Dropout"
      ],
      "execution_count": 20,
      "outputs": []
    },
    {
      "cell_type": "code",
      "metadata": {
        "colab": {
          "base_uri": "https://localhost:8080/"
        },
        "id": "YB3fKDruZ56V",
        "outputId": "12f57612-d410-4b8b-cdad-632a58ffba77"
      },
      "source": [
        "base_model = VGG16(weights='imagenet', include_top=False, input_shape=(224, 224, 3))    # include_top=False to remove the top layer"
      ],
      "execution_count": 21,
      "outputs": [
        {
          "output_type": "stream",
          "text": [
            "Downloading data from https://storage.googleapis.com/tensorflow/keras-applications/vgg16/vgg16_weights_tf_dim_ordering_tf_kernels_notop.h5\n",
            "58892288/58889256 [==============================] - 1s 0us/step\n",
            "58900480/58889256 [==============================] - 1s 0us/step\n"
          ],
          "name": "stdout"
        }
      ]
    },
    {
      "cell_type": "code",
      "metadata": {
        "id": "gJXVmSZwaEP9"
      },
      "source": [
        "X_train = base_model.predict(X_train)\n",
        "X_valid = base_model.predict(X_valid)"
      ],
      "execution_count": 22,
      "outputs": []
    },
    {
      "cell_type": "code",
      "metadata": {
        "colab": {
          "base_uri": "https://localhost:8080/"
        },
        "id": "-GUEij90cLS3",
        "outputId": "6308d187-6f68-4621-ad34-f73a67f437be"
      },
      "source": [
        "X_train.shape, X_valid.shape"
      ],
      "execution_count": 23,
      "outputs": [
        {
          "output_type": "execute_result",
          "data": {
            "text/plain": [
              "((208, 7, 7, 512), (90, 7, 7, 512))"
            ]
          },
          "metadata": {
            "tags": []
          },
          "execution_count": 23
        }
      ]
    },
    {
      "cell_type": "code",
      "metadata": {
        "colab": {
          "base_uri": "https://localhost:8080/"
        },
        "id": "axsy8LY9QkSx",
        "outputId": "dfb296ea-06f8-41a4-eea9-9c672018d791"
      },
      "source": [
        "X_train = X_train.reshape(208, 7*7*512)   \n",
        "X_valid = X_valid.reshape(90, 7*7*512)\n",
        "\n",
        "train = X_train/X_train.max()      \n",
        "X_valid = X_valid/X_train.max()\n",
        "\n",
        "\n",
        "model = Sequential()\n",
        "model.add(InputLayer((7*7*512,)))\n",
        "model.add(Dense(units=1024, activation='sigmoid'))\n",
        "model.add(Dense(3, activation='softmax'))    \n",
        "\n",
        "model.summary()"
      ],
      "execution_count": 33,
      "outputs": [
        {
          "output_type": "stream",
          "text": [
            "Model: \"sequential\"\n",
            "_________________________________________________________________\n",
            "Layer (type)                 Output Shape              Param #   \n",
            "=================================================================\n",
            "dense (Dense)                (None, 1024)              25691136  \n",
            "_________________________________________________________________\n",
            "dense_1 (Dense)              (None, 3)                 3075      \n",
            "=================================================================\n",
            "Total params: 25,694,211\n",
            "Trainable params: 25,694,211\n",
            "Non-trainable params: 0\n",
            "_________________________________________________________________\n"
          ],
          "name": "stdout"
        }
      ]
    },
    {
      "cell_type": "code",
      "metadata": {
        "id": "XofpUnQWN8SH"
      },
      "source": [
        "# preprocessing the images\n",
        "test_image = preprocess_input(test_image)\n",
        "\n",
        "# extracting features from the images using pretrained model\n",
        "test_image = base_model.predict(test_image)\n",
        "\n",
        "# converting the images to 1-D form\n",
        "test_image = test_image.reshape(186, 7*7*512)\n",
        "\n",
        "# zero centered images\n",
        "test_image = test_image/test_image.max()"
      ],
      "execution_count": 25,
      "outputs": []
    },
    {
      "cell_type": "code",
      "metadata": {
        "id": "QcpUD3MoODIi"
      },
      "source": [
        "#predictions = model.predict_classes(test_image)\n",
        "predictions = np.argmax(model.predict(test_image), axis=-1)"
      ],
      "execution_count": 39,
      "outputs": []
    },
    {
      "cell_type": "code",
      "metadata": {
        "colab": {
          "base_uri": "https://localhost:8080/"
        },
        "id": "7aY7UH3_e4vy",
        "outputId": "d96fecc7-c9c0-4cda-d2bd-bcec38dda751"
      },
      "source": [
        "print(\"The screen time of JERRY is\", predictions[predictions==1].shape[0], \"seconds\")\n",
        "print(\"The screen time of TOM is\", predictions[predictions==2].shape[0], \"seconds\")"
      ],
      "execution_count": 40,
      "outputs": [
        {
          "output_type": "stream",
          "text": [
            "The screen time of JERRY is 0 seconds\n",
            "The screen time of TOM is 0 seconds\n"
          ],
          "name": "stdout"
        }
      ]
    }
  ]
}